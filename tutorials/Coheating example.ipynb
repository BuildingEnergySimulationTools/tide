{
 "cells": [
  {
   "cell_type": "markdown",
   "id": "d03e2c6d-868a-46ed-a487-30c8292f50cb",
   "metadata": {},
   "source": [
    "This tutorial can be found and ran in the GITHUB libray TIDE: https://github.com/BuildingEnergySimulationTools/tide. \n",
    "Complementary documentation can be found here: https://python-tide.readthedocs.io/en/main/?badge=main."
   ]
  },
  {
   "cell_type": "markdown",
   "id": "48ef41f6-64b1-4c87-9ca5-10c1c38802d0",
   "metadata": {},
   "source": [
    "# Plumber Tutorial — Coheating Test Use Case\n",
    "\n",
    "This notebook serves as a tutorial for the plumber Python library — a tool for building robust and traceable data processing pipelines.\n",
    "It walks through the processing and analysis of data collected from a coheating experiment performed on a 1m3 test cell, using the <code>Plumber</code> class."
   ]
  },
  {
   "cell_type": "markdown",
   "id": "01803f44-8c6e-4d8f-8705-24f4171a8f19",
   "metadata": {},
   "source": [
    "## Description of the test bench and of coheating test\n",
    "A coheating test is a method used to assess the thermal performance of a building envelope by maintaining a constant indoor temperature using electric heaters, while measuring:\n",
    "- Heat input\n",
    "- Internal and external environmental conditions\n",
    "\n",
    "The used test bench consists of five identical opaque walls and a sixth wall with glazing, designed to include and characterize a complex shading system. In this tutorial, the tests are conducted without the shading system in place, in order to establish a baseline performance of the test cell.\n",
    "\n",
    "| Figure : Test bench with and without tested shading system |\n",
    "| :---: |\n",
    "| <img src=\"images/instrumented_miniBET.jpg\"  style=\"height:300px;\">  <img src=\"images/tilted_oriented_slats.jpg\"  style=\"height:300px;\"> <img src=\"images/tilted_oriented_slats2.jpg\"  style=\"height:300px;\">   | \n",
    "\n",
    "This baseline allows for:\n",
    "\n",
    "- Accurate determination of the U-values of each envelope component\n",
    "- Identification of infiltration rates and thermal bridging\n",
    "- Assessment of the thermal inertia of the structure\n",
    "- Evaluation of the glazing performance without interference from shading\n",
    "\n",
    "## Used dataset\n",
    "This dataset used in this tutorial comes from measurement performed in a lab, with constant outside conditions and no sun radiation, with:\n",
    "\n",
    "- Constant heating using a simple heat source (light bulb)\n",
    "- Indoor air and surface temperatures\n",
    "- Heat fluxes on interior wall surfaces\n"
   ]
  },
  {
   "cell_type": "markdown",
   "id": "b9ef6659-f743-470c-81ef-6b29f0bf8361",
   "metadata": {},
   "source": [
    "## Tutorial Overview\n",
    "This tutorial demonstrates how to use the plumber library to structure and process our data.\n",
    "\n",
    "We explore several features of plumber to build a modular and transparent data workflow.\n",
    "\n",
    "1. **Load and inspect the raw dataset**\n",
    "Use <code>show()</code> to quickly examine structure, time coverage, and metadata from the raw CSV file.\n",
    "\n",
    "2. **Build a parsing and resampling pipeline**\n",
    "Create a <code>Plumber</code> pipeline to rename columns, parse datetime formats, and resample the time series to regular intervals (e.g. 1 min, 10 min) for better readability and processing.\n",
    "\n",
    "3. **Visualize cleaned signals**\n",
    "Use the plotting capabilities of <code>show()</code> to explore temperature and heat flux trends over time, and verify pipeline outputs.\n",
    "\n",
    "4. **Compute and export thermal metrics**\n",
    "Extend the pipeline to calculate key indicators (e.g. U-values, integrated fluxes) and prepare the dataset for modeling or reporting.\n",
    "\n",
    "Each transformation step remains traceable, reproducible, and easy to debug thanks to plumber's node-based architecture."
   ]
  },
  {
   "cell_type": "markdown",
   "id": "043688da-b711-4f64-ba9b-deb2bb215d7e",
   "metadata": {},
   "source": [
    "## Import data - graphtec file"
   ]
  },
  {
   "cell_type": "markdown",
   "id": "81a1c25d-219a-4697-8c58-c3f95627c1e7",
   "metadata": {},
   "source": [
    "First, let's load some generic libraries (pandas, Path)"
   ]
  },
  {
   "cell_type": "code",
   "execution_count": null,
   "id": "748de2e8-758f-4c2d-a90d-691cef1ce65b",
   "metadata": {},
   "outputs": [],
   "source": [
    "from pathlib import Path\n",
    "import pandas as pd\n",
    "import re\n",
    "from datetime import datetime, timedelta\n",
    "import numpy as np\n",
    "import os"
   ]
  },
  {
   "cell_type": "code",
   "execution_count": null,
   "id": "01458cb8-20ed-4226-b2b7-563d8a333f12",
   "metadata": {},
   "outputs": [],
   "source": [
    "TUTORIAL_DIR = Path(os.getcwd()).as_posix()"
   ]
  },
  {
   "cell_type": "markdown",
   "id": "0d4fa4c2-74a3-4431-912a-b8cdf1333dfe",
   "metadata": {},
   "source": [
    "Now we load and clean the datafile containing the raw measurements. Channels were renamed following the structure: Name__Unit__Bloc__Sub_bloc.\n",
    "\n",
    "This structured format allows plumber to automatically parse the dataset and assign metadata to each column, enabling smart filtering, grouping, and visualization across different processing nodes.\n",
    "\n",
    "- <code>name</code>: the physical quantity (e.g., T_air, heat_flux)\n",
    "\n",
    "- <code>unit</code>: the measurement unit (e.g., degC, W/m2)\n",
    "\n",
    "- <code>bloc</code>: the logical system or location (e.g., indoor, outdoor, wall_A)\n",
    "\n",
    "- <code>sub_bloc</code> (optional): a more specific designation (e.g., surface, air, glass)\n",
    "\n",
    "This structured column naming is central to plumber's ability to:\n",
    "\n",
    "- Dynamically group signals by type or location\n",
    "\n",
    "- Enable semantic-aware plotting and filtering using <code>select()</code>\n"
   ]
  },
  {
   "cell_type": "code",
   "execution_count": null,
   "id": "85fff38f-11c1-48f7-9d36-84925eb7f39f",
   "metadata": {},
   "outputs": [],
   "source": [
    "df = pd.read_csv(\n",
    "    Path(TUTORIAL_DIR) / \"resources/coheating_test_minibet.csv\",\n",
    "    index_col=0,\n",
    "    parse_dates=[0],\n",
    "    date_format=\"%Y-%m-%d %H:%M:%S%z\" \n",
    ")\n",
    "df.head()"
   ]
  },
  {
   "cell_type": "markdown",
   "id": "26bd95d8-4a63-4b71-ac8c-292d5639cae1",
   "metadata": {},
   "source": [
    "# Examples of pipeline operations"
   ]
  },
  {
   "cell_type": "markdown",
   "id": "4e26a923-6d0d-4199-8360-800d8aa3b91e",
   "metadata": {},
   "source": [
    "## Plumber class"
   ]
  },
  {
   "cell_type": "code",
   "execution_count": null,
   "id": "4517d243-4bbe-40f1-bbec-c01dd8e1593f",
   "metadata": {},
   "outputs": [],
   "source": [
    "from tide.plumbing import Plumber"
   ]
  },
  {
   "cell_type": "markdown",
   "id": "56f81400-fd23-406b-b2d4-420c43a77e14",
   "metadata": {},
   "source": [
    "First, let's instantiate the Plumber class, giving it the measurement dataframe as an argument, with the correct column names."
   ]
  },
  {
   "cell_type": "code",
   "execution_count": null,
   "id": "42e046b8-77b9-4093-b72b-67d0026a7341",
   "metadata": {},
   "outputs": [],
   "source": [
    "plumber = Plumber(\n",
    "   df,  \n",
    ")"
   ]
  },
  {
   "cell_type": "markdown",
   "id": "5491490b-d2c2-414d-bd8b-78e79a425a23",
   "metadata": {},
   "source": [
    "You can check whether the data is correctly structured using Plumber's <code>show</code> method."
   ]
  },
  {
   "cell_type": "code",
   "execution_count": null,
   "id": "ac5e4c9a-2632-4b66-92e3-cf3d5cc867ee",
   "metadata": {
    "scrolled": true
   },
   "outputs": [],
   "source": [
    "plumber.show()"
   ]
  },
  {
   "cell_type": "markdown",
   "id": "981c9b5e-b80f-476c-b783-0ee0819e842d",
   "metadata": {},
   "source": [
    "You can select specific data using Plumber's <code>select</code> method, with labels: \n",
    "- full name of sensors e.g., \"hf_d_1\"\n",
    "- units e.g., \"degC\"\n",
    "- type of sensor: \"temperature\"\n",
    "- positions : \"door"
   ]
  },
  {
   "cell_type": "code",
   "execution_count": null,
   "id": "37bb0c3c-7b1c-4351-98bb-4457d45072e0",
   "metadata": {},
   "outputs": [],
   "source": [
    "plumber.select(\"door\")"
   ]
  },
  {
   "cell_type": "markdown",
   "id": "0489f7c0-564b-45a3-98ca-4f8f9271d41d",
   "metadata": {},
   "source": [
    "You can also check whether the data is missing (depending on the category chosen (position, unit, or type of sensor), or a time-step."
   ]
  },
  {
   "cell_type": "code",
   "execution_count": null,
   "id": "3cc22625-2d93-4881-9455-4b06a17e9821",
   "metadata": {},
   "outputs": [],
   "source": [
    "plumber.plot_gaps_heatmap(time_step=(\"5min\"))"
   ]
  },
  {
   "cell_type": "markdown",
   "id": "254c2023-6642-46a8-a778-55224c5a6724",
   "metadata": {},
   "source": [
    "Here it appears some data is ponctually missing for a few inputs. Let's look into that:"
   ]
  },
  {
   "cell_type": "code",
   "execution_count": null,
   "id": "e54c5cd8-0413-4206-bc65-6074a2e38e76",
   "metadata": {},
   "outputs": [],
   "source": [
    "plumber.get_gaps_description()"
   ]
  },
  {
   "cell_type": "markdown",
   "id": "ca9247a6-ac4d-4a62-9e6e-99495a9ba269",
   "metadata": {},
   "source": [
    "Overwall,  little data is missing for T_surf_ci__degC__temperature__ceiling but 60 of hf_fl__mV__heatflux__floor appears to be missing  (example of gaps below). Interpolation for these gaps should be used if these inputs are necessary."
   ]
  },
  {
   "cell_type": "markdown",
   "id": "9467d91f-3b12-4069-8a33-7aa84dfd69be",
   "metadata": {},
   "source": [
    "## Pipeline transformations\n",
    "\n",
    "The pipeline is defined as a **dictionary (`pipe_dict`)** where:\n",
    "\n",
    "- **Keys** are **custom names** for processing steps (e.g., `\"resampling\"`, `\"conversion\"`, `\"cleaning\"`).\n",
    "- **Values** specify the **processing functions**:\n",
    "  - A **list (`[]`)** applies a transformation to the **entire dataset**.\n",
    "  - A **dictionary (`{}`)** applies transformations **only to specific columns**.\n",
    "- **Processing functions (strings)** → These come from **Tide's processing module**.\n",
    "    - Example: `\"GaussianFilter1D\"`, `\"ApplyExpression\"`, `\"Resample\"`, etc.\n",
    "    - These function names **must match exactly** what’s in the Tide documentation.\n",
    "\n",
    "\n",
    "---\n",
    "\n",
    "**Example Pipeline**\n",
    "\n",
    "Below is an example of a structured pipeline:\n",
    "\n",
    "```python\n",
    "pipe_dict = {\n",
    "    # Step 1: Resample data to 1-minute intervals\n",
    "    \"resampling_1min\": [[\"Resample\", [\"1min\", \"mean\"]]],\n",
    "    \n",
    "    # Step 2: Unit conversions\n",
    "    \"conversion\": {\n",
    "        \"V__pyranometer\": [\n",
    "            [\"ApplyExpression\", [\"(X-0.88)/(4.4-0.88)*1600\", \"W/m²\"]],\n",
    "        ],\n",
    "        \"V__anemometer\": [\n",
    "            [\"ApplyExpression\", [\"(X*35/10)\", \"m/s\"]],\n",
    "        ],\n",
    "    },\n",
    "    \n",
    "    # Step 3: Calibration adjustments using sensitivity coefficients\n",
    "    \"calibration\": {\n",
    "        'hf_gr_cd': [['ApplyExpression', ['X*9.174', 'W/m²']]],\n",
    "        'hf_gr_cg_w': [['ApplyExpression', ['X*7.537', 'W/m²']]]\n",
    "    },\n",
    "\n",
    "    # Step 4: Apply Gaussian smoothing filter\n",
    "    \"smoothing\": [[\"GaussianFilter1D\",  dict(sigma=10, mode=\"nearest\", truncate=15)]],\n",
    "\n",
    "    # Step 5: Handling missing data\n",
    "    \"handling_missing\": {\n",
    "        \"degC\": [[\"Interpolate\", [\"linear\"]]],  # Linear interpolation for temperature\n",
    "        \"pyranometer\": [[\"Ffill\", [None]]],  # Forward fill for radiation data\n",
    "    },\n",
    "\n",
    "    # Step 6: Renaming columns\n",
    "    \"rename_columns\": [[\"RenameColumns\", [{\"old_col\": \"new_col\"}]]],\n",
    "\n",
    "    # Step 7: Combine columns\n",
    "  \n",
    "    \"average_of_surface\": [\n",
    "        [\"CombineColumns\", dict(function=np.mean, function_kwargs={\"axis\":1}, tide_format_columns=\"ground\", drop_columns=True, result_column_name=\"T_gr__degC__temperature__ground\")],\n",
    "        [\"CombineColumns\", dict(function=np.mean, function_kwargs={\"axis\":1}, tide_format_columns=\"ground\", drop_columns=True, result_column_name=\"T_gr__degC__temperature__ground\")],\n",
    "    ]\n",
    "}\n",
    "\n",
    "```\n",
    "\n",
    "---\n",
    "This pipeline applies a sequence of transformations to the dataset.\n",
    "Processing steps are defined in pipe_dict and executed in order.\n",
    "\n",
    "To find **valid processing functions**, check the documentation:[Tide Processing Documentation](https://github.com/BuildingEnergySimulationTools/tide/blob/main/tide/processing.py)\n",
    "\n",
    "Functions are listed in `tide.processing`, and you should **use their exact names** in your pipeline.\n",
    "\n",
    "**Example valid function names:**\n",
    "| Function Name | Purpose |\n",
    "|--------------|---------|\n",
    "| `\"Resample\"` | Resamples time series data (e.g., `\"1min\", \"mean\"`). |\n",
    "| `\"ApplyExpression\"` | Applies a mathematical formula to columns. |\n",
    "| `\"GaussianFilter1D\"` | Applies Gaussian smoothing to reduce noise. |\n",
    "| `\"Dropna\"` | Drops rows/columns with missing values. |\n",
    "| `\"ReplaceThreshold\"` | Replaces values beyond a threshold. |\n",
    "| `\"STLFilter\"` | Detects anomalies using Seasonal-Trend decomposition. |\n",
    "| `\"Interpolate\"` | Fills missing values using interpolation. |\n",
    "| `\"Ffill\"` | Forward-fills missing values. |\n",
    "| `\"Bfill\"` | Backward-fills missing values. |\n",
    "| `\"FillNa\"` | Replaces NaN values with a specified constant. |\n",
    "| `\"CombineColumns\"` | Aggregates multiple columns (e.g., `\"mean\"`). |\n",
    "| `\"RenameColumns\"` | Renames columns based on a mapping. |\n",
    "\n",
    "---\n"
   ]
  },
  {
   "cell_type": "markdown",
   "id": "586cf7b8-1067-42f5-be59-1fedcd342523",
   "metadata": {},
   "source": [
    "# Pipeline for cleaning our data \n",
    "\n",
    "Here we want to: \n",
    "- resample data first (measurement each second so far)\n",
    "- convert pyranometer and anemometer (from volt to W/m² and m/s) (not really necessary here, since measurements were performed in a lab, at night)\n",
    "- apply a filter on wind (likewise, no wind in lab)\n",
    "- convert heatlfuxmeter voltage into heatflow density (using sensitivity provided by manufacturer)\n",
    "- apply calibration factors to temperature measurement\n",
    "- create average temperatures"
   ]
  },
  {
   "cell_type": "markdown",
   "id": "f587a520-d0b3-4e7f-b00f-8b6553b41f97",
   "metadata": {},
   "source": [
    "## Dictionary definition"
   ]
  },
  {
   "cell_type": "code",
   "execution_count": null,
   "id": "d5b1926f-6938-452e-9ad1-58a9d47ad50a",
   "metadata": {},
   "outputs": [],
   "source": [
    "conversion_sensitivity_dict =  {  # measurement is converted from V into in W/m² here\n",
    "    'hf_fw': [['ApplyExpression', ['X/9.174*1e6', 'W/m²']]],\n",
    "    'hf_d_1': [['ApplyExpression', ['X/7.537*1e6', 'W/m²']]],\n",
    "    'hf_gl_corner': [['ApplyExpression', ['X/10.447*1e6', 'W/m²']]],\n",
    "    'hf_ci_1': [['ApplyExpression', ['X/8.684*1e6', 'W/m²']]],\n",
    "    'hf_gl_cen': [['ApplyExpression', ['X/62.54*1e6', 'W/m²']]],\n",
    "    'hf_fe': [['ApplyExpression', ['X/127.12*1e6', 'W/m²']]],\n",
    "    'hf_fl': [['ApplyExpression', ['X/127.12*1e6', 'W/m²']]],\n",
    "    'hf_d_2': [['ApplyExpression', ['X/129.0*1e6', 'W/m²']]],\n",
    "    'hf_ci_2': [['ApplyExpression', ['X/129.0*1e6', 'W/m²']]]\n",
    "}\n",
    "\n",
    "\n",
    "conversion_calib_dict =  { # affine transformation here\n",
    "        'T_surf_fe_cen': [['ApplyExpression', ['X * 1.0029 + -0.2311', 'degC']]],\n",
    "        'T_surf_ci': [['ApplyExpression', ['X * 0.9969 + -0.186', 'degC']]],\n",
    "        'T_surf_gl_in_cen': [['ApplyExpression', ['X * 0.9977 + -0.1604', 'degC']]],\n",
    "        'T_air_in_up': [['ApplyExpression', ['X * 0.997 + -0.1746', 'degC']]],\n",
    "        'T_surf_d': [['ApplyExpression', ['X * 0.9965 + -0.1535', 'degC']]],\n",
    "        'T_surf_fl_cen': [['ApplyExpression', ['X * 0.9967 + -0.1638', 'degC']]],\n",
    "        'T_air_in_down': [['ApplyExpression', ['X * 0.997 + -0.1618', 'degC']]],\n",
    "        'T_surf_fl_cg_e': [['ApplyExpression', ['X * 0.998 + -0.2555', 'degC']]],\n",
    "        'T_surf_ext_gl': [['ApplyExpression', ['X * 0.9973 + -0.2009', 'degC']]],\n",
    "        'T_surf_fl_cd': [['ApplyExpression', ['X * 0.9973 + -0.2147', 'degC']]],\n",
    "        'T_air_ext_1': [['ApplyExpression', ['X * 0.9956 + 0.0933', 'degC']]],\n",
    "        'T_surf_fw': [['ApplyExpression', ['X * 0.9967 + 0.0053', 'degC']]],\n",
    "        'T_air_ext_2': [['ApplyExpression', ['X * 0.9955 + 0.0443', 'degC']]],\n",
    "        'T_surf_gl_up_ext': [['ApplyExpression', ['X * 0.9966 + 0.0103', 'degC']]],\n",
    "        'T_surf_fl_cg_w': [['ApplyExpression', ['X * 0.9963 + -0.0166', 'degC']]],\n",
    "        'T_surf_gl_in_up': [['ApplyExpression', ['X * 0.9966 + 0.0641', 'degC']]]\n",
    "    }\n",
    "\n",
    "\n",
    "pipe_dict = {\n",
    "    \n",
    "    \"resampling_1min\": [[\"Resample\", [\"1min\", \"mean\"]]], \n",
    "    \n",
    "    \"conversion\": {\n",
    "        \"mV\": [\n",
    "            [\"ApplyExpression\", [\"X/1000\", \"V\"]],\n",
    "    ]},\n",
    "    \n",
    "    \"conversion_heatfluxes\": conversion_sensitivity_dict,\n",
    "\n",
    "    \"handling_missing\": {\n",
    "        \"degC\": [[\"Interpolate\", [\"linear\"]]],\n",
    "        \"W/m²\": [[\"Interpolate\", [\"linear\"]]],\n",
    "    },\n",
    "    \n",
    "    \"moving_av\": {\n",
    "        \"heatflux\": [\n",
    "                [\"GaussianFilter1D\", dict(sigma=1, mode=\"nearest\", truncate=1)],\n",
    "            ],\n",
    "\n",
    "    },\n",
    "    \n",
    "    \"moving_av_specific\": {\n",
    "        \"hf_d_1\": [\n",
    "            [\"GaussianFilter1D\", dict(sigma=2, mode=\"nearest\", truncate=2)],\n",
    "        ]\n",
    "    },\n",
    "    \n",
    "    \"goodsigns\": {\n",
    "        \"hf_fe\": [\n",
    "            [\"ApplyExpression\", [\"-X\", \"W/m²\"]],\n",
    "        ],\n",
    "        \"hf_fw\": [\n",
    "            [\"ApplyExpression\", [\"-X\", \"W/m²\"]],\n",
    "        ],\n",
    "        \"hf_gl_cen\": [\n",
    "            [\"ApplyExpression\", [\"-X\", \"W/m²\"]],\n",
    "        ],\n",
    "    },\n",
    "    \n",
    "    \"calibration_temp_sensors\": conversion_calib_dict,\n",
    "\n",
    "   \n",
    "    \"average_temp\": {\n",
    "        \"air ext__degC\":[\n",
    "          [\"CombineColumns\", dict(\n",
    "            function=\"mean\", \n",
    "            drop_columns=True, \n",
    "            result_column_name=\"T_air_ext_av__degC__temperature__air ext\")\n",
    "        ]], \n",
    "        \"air in__degC\":[\n",
    "          [\"CombineColumns\", dict(\n",
    "            function=\"mean\", \n",
    "            drop_columns=True, \n",
    "            result_column_name=\"T_air_in_av__degC__temperature__air in\")\n",
    "        ]], \n",
    "    },\n",
    "\n",
    "\n",
    "    \"average_HF\": {\n",
    "        \"heatflux__ceiling\":[\n",
    "          [\"CombineColumns\", dict(\n",
    "            function=\"mean\", \n",
    "            drop_columns=True, \n",
    "            result_column_name=\"hf_ci_av__W/m²__heatflux__ceiling\")\n",
    "        ]], \n",
    "    },\n",
    "\n",
    "   \n",
    "    \"power_input\": [\n",
    "        [\"ExpressionCombine\", [\n",
    "            {\n",
    "            \"X\":  'P__V__lamp__in',\n",
    "            },\n",
    "            \"(X > 1) * 148\",\n",
    "            'P__W__lamp__in',\n",
    "        ]],\n",
    "    ],  \n",
    "}"
   ]
  },
  {
   "cell_type": "code",
   "execution_count": null,
   "id": "308133fb-3e91-422f-8b23-45e750890dbe",
   "metadata": {},
   "outputs": [],
   "source": [
    "plumber = Plumber(\n",
    "    df,\n",
    "    pipe_dict\n",
    ")"
   ]
  },
  {
   "cell_type": "markdown",
   "id": "71cc3af0-b8f8-4212-907d-6071b8e02685",
   "metadata": {},
   "source": [
    "We can now use method <code>show</code> again, and see final transformation when pipeline is executed"
   ]
  },
  {
   "cell_type": "code",
   "execution_count": null,
   "id": "de974243-e41d-419a-aba6-039134ca763e",
   "metadata": {
    "scrolled": true
   },
   "outputs": [],
   "source": [
    "plumber.show()"
   ]
  },
  {
   "cell_type": "markdown",
   "id": "d46be714-5f23-40bf-a95a-3cc87a8932c4",
   "metadata": {},
   "source": [
    "## Plot transformed data and compare different steps of the pipeline"
   ]
  },
  {
   "cell_type": "markdown",
   "id": "82b63a99-510a-4a4d-bef3-7b7d1ed3e6b8",
   "metadata": {},
   "source": [
    "Let's plot data. Likewise, you can decide to show data :\n",
    "- after specifics steps only\n",
    "- for a specifi timerange\n",
    "- by filter labels (only W/m² or degC labels, or \"ext\" sensors if it a label)\n",
    "- and their gaps if any)"
   ]
  },
  {
   "cell_type": "markdown",
   "id": "0cbf16d5-ebbc-4d59-9b9e-d20ae62e14c0",
   "metadata": {},
   "source": [
    "In example below, we can check transformation at different steps for the interior surface door temperature measurement: \n",
    "- first (\"steps\"), only resampling_1min step is applied.\n",
    "- second (steps_2\"), all steps to \"calibration_temp_sensors\" step included\n",
    "\n",
    "Note that for better visibility, you can plot graphs in browser rather than in the notebook using: \n",
    "\n",
    "`import plotly.io as pio`, `pio.renderers.default = \"browser\" `"
   ]
  },
  {
   "cell_type": "code",
   "execution_count": null,
   "id": "6e66bee0-2511-403d-ace9-1ca3258e9f4c",
   "metadata": {
    "scrolled": true
   },
   "outputs": [],
   "source": [
    "plumber.plot(\n",
    "    steps=slice(\"resampling_1min\"),\n",
    "    steps_2=slice(None, \"calibration_temp_sensors\"),\n",
    "    select=\"degC__door\",\n",
    "    # start=\"2025-03-07 00:00\",\n",
    "    # stop=\"2025-03-07 04:00\",\n",
    "    data_2_mode=\"lines\"\n",
    ")"
   ]
  },
  {
   "cell_type": "markdown",
   "id": "e6ed5f27-dacb-4885-9e9a-5dbeb696d9b0",
   "metadata": {},
   "source": [
    "To  plot data after all operations, simply use <code>plot()</code>, no step specified. Note that you can select one or several tabs using the '|' separator. For instance, for all degC **and** heatflows, you can use : <code>\"label1|label2\"</code>"
   ]
  },
  {
   "cell_type": "markdown",
   "id": "c0964896-c9fb-4d80-9cdc-7489ce075e6c",
   "metadata": {},
   "source": [
    "Let's compare with and without interpolation for hf_fl__mV__heatflux__floor"
   ]
  },
  {
   "cell_type": "code",
   "execution_count": null,
   "id": "b5853e86-788d-4b56-a023-82ae7a8b276f",
   "metadata": {},
   "outputs": [],
   "source": [
    "plumber.plot(\n",
    "    steps=slice(None,\"conversion_heatfluxes\"), #up to conversion_heatfluxes step\n",
    "    steps_2=slice(None, \"handling_missing\"), #up to interpolation step\n",
    "    select=\"hf_fl__mV__heatflux__floor\", \n",
    "    plot_gaps=True,\n",
    "    data_2_mode=\"lines\"\n",
    ")"
   ]
  },
  {
   "cell_type": "markdown",
   "id": "37592fa2-2b17-4963-b6fe-c7510f8d2aae",
   "metadata": {},
   "source": [
    "You can vizualise the entire pipeline using the <code>get_pipeline</code> method \n",
    "and apply specific steps of the pipeline, using the \"steps\" argument: "
   ]
  },
  {
   "cell_type": "code",
   "execution_count": null,
   "id": "e6f150ef-3dd8-4a0c-b223-18d40d87dbe1",
   "metadata": {},
   "outputs": [],
   "source": [
    "plumber.get_pipeline(steps=\"goodsigns\")"
   ]
  },
  {
   "cell_type": "markdown",
   "id": "5efa3b7b-80bd-4a58-a856-0f9f69bc33d3",
   "metadata": {},
   "source": [
    "## Get corrected data"
   ]
  },
  {
   "cell_type": "markdown",
   "id": "31a2a971-cb4a-41b1-8226-9a56aaaf613a",
   "metadata": {},
   "source": [
    "Finally, you can access your corrected data using the <code>get_corrected_data</code> method.\n",
    "Likewise, \"steps\" and \"select\" arguments are available:"
   ]
  },
  {
   "cell_type": "code",
   "execution_count": null,
   "id": "188d5dac-a124-4ff3-9427-39229eb09220",
   "metadata": {
    "scrolled": true
   },
   "outputs": [],
   "source": [
    "plumber.get_corrected_data(steps=slice(None, \"calibration_temp_sensors\"), verbose=True).head()"
   ]
  },
  {
   "cell_type": "code",
   "execution_count": null,
   "id": "2e34fc25-2aca-46c9-8b35-85014bbdf2d7",
   "metadata": {
    "scrolled": true
   },
   "outputs": [],
   "source": [
    "clean_df = plumber.get_corrected_data()"
   ]
  },
  {
   "cell_type": "code",
   "execution_count": null,
   "id": "a9787f89-e381-4699-9599-4f8c8a6b70b3",
   "metadata": {},
   "outputs": [],
   "source": [
    "clean_df.head()"
   ]
  },
  {
   "cell_type": "markdown",
   "id": "fff6d7bd-4734-4605-933a-3eb30a6fed74",
   "metadata": {},
   "source": [
    "# Use of pipeline for U-values calculations"
   ]
  },
  {
   "cell_type": "markdown",
   "id": "ce0324ef-f80a-4151-a00e-e33aa429a0ed",
   "metadata": {},
   "source": [
    "## Definition of a new pipeline dictionary for calculation steps"
   ]
  },
  {
   "cell_type": "markdown",
   "id": "5f52e056-37f5-4186-bed7-7f2075b3b37d",
   "metadata": {},
   "source": [
    "Now, let's define a new dictionary. \n",
    "\n",
    "The following  Ucalc_dict defines a set of modular processing steps used to compute thermal transmittance values (U-values) based on measured heat fluxes and temperatures. It is structured around the use of ExpressionCombine and other processing nodes within the plumber framework.Each entry in the dictionary corresponds to a specific calculation block, grouped by purpose:\n",
    "\n",
    "- Estimatation of a global U-value for the entire envelope using Heating power input (P), Indoor temperature (Tin), Outdoor temperature (Text) (This approach assumes a steady-state condition and is useful for overall balance checks)\n",
    "- U-values calculation, by comparing Measured heat flux on internal surfaces, Measured surface temperatures, Outdoor air temperature\n",
    "- The calculated overall U_value, combining all individual surface U-value into a global equivalent U-value, weighted by relative surface area and glazing transmittance assumptions.\n",
    "- Infiltrations, as the difference between Power-balance-derived global U-value and Sum of surface-derived U-values\n",
    "- A stability check of data, to remove time periods wwhere the U_values vary too rapidly, ensuring only quasi-steady-state data is retained."
   ]
  },
  {
   "cell_type": "code",
   "execution_count": null,
   "id": "60987c43-952d-473f-84ce-763f81ef1645",
   "metadata": {},
   "outputs": [],
   "source": [
    "Ucalc_dict = {\n",
    "\n",
    "      \"U_value_powerbalance\": [\n",
    "          \n",
    "          [\"ExpressionCombine\", [ \n",
    "            {\n",
    "                \"X\":  'P__W__lamp__in',\n",
    "                \"Tin\":  'T_air_in_av__degC__temperature__air in',\n",
    "                \"Text\":  'T_air_ext_av__degC__temperature__air ext',\n",
    "            },\n",
    "            \"X/(Tin-Text)/6\",\n",
    "            'Utot_power__W/m²K__Ucalc_tot__in',\n",
    "        ]],],\n",
    "\n",
    "\n",
    "        \"U_value_surfaces_to_ext\": [\n",
    "          \n",
    "          [\"ExpressionCombine\", [  #eastwall\n",
    "            {\n",
    "                \"HF\":  'hf_fw__W/m²__heatflux__westwall',\n",
    "                \"Tin\":  'T_surf_fw__degC__temperature__westwall',\n",
    "                \"Text\":  'T_air_ext_av__degC__temperature__air ext',\n",
    "            },\n",
    "            \"HF/(Tin-Text)\",\n",
    "            'Uw__W/m²K__Ucalc__westwall',\n",
    "        ]],\n",
    "            \n",
    "           [\"ExpressionCombine\", [  #westwall\n",
    "            {\n",
    "                \"HF\":  'hf_fe__W/m²__heatflux__eastwall',\n",
    "                \"Tin\":  'T_surf_fe_cen__degC__temperature__eastwall',\n",
    "                \"Text\":  'T_air_ext_av__degC__temperature__air ext',\n",
    "            },\n",
    "            \"HF/(Tin-Text)\",\n",
    "            'Ue__W/m²K__Ucalc__eastwall',\n",
    "        ]],  \n",
    "            \n",
    "          [\"ExpressionCombine\", [  ##door\n",
    "             {\n",
    "                \"HF\":  'hf_d_2__W/m²__heatflux__door',\n",
    "                \"Tin\":  'T_surf_d__degC__temperature__door',\n",
    "                \"Text\":  'T_air_ext_av__degC__temperature__air ext',\n",
    "            },\n",
    "            \"HF/(Tin-Text)\",\n",
    "            'Ud__W/m²K__Ucalc__door',\n",
    "        ]],       \n",
    "        \n",
    "              \n",
    "          [\"ExpressionCombine\", [  ##floor\n",
    "             {\n",
    "                \"HF\":  'hf_fl__W/m²__heatflux__floor',\n",
    "                \"Tin\":  'T_surf_fl_cen__degC__temperature__floor',\n",
    "                \"Text\":  'T_air_ext_av__degC__temperature__air ext',\n",
    "            },\n",
    "            \"HF/(Tin-Text)\",\n",
    "            'Uf__W/m²K__Ucalc__floor',\n",
    "        ]],\n",
    "            \n",
    "          [\"ExpressionCombine\", [  ## ceiling\n",
    "             {\n",
    "                \"HF\":  'hf_ci_av__W/m²__heatflux__ceiling',\n",
    "                \"Tin\":  'T_surf_ci__degC__temperature__ceiling',\n",
    "                \"Text\":  'T_air_ext_av__degC__temperature__air ext',\n",
    "            },\n",
    "            \"HF/(Tin-Text)\",\n",
    "            'Uc__W/m²K__Ucalc__ceiling',\n",
    "        ]],  \n",
    "\n",
    "           [\"ExpressionCombine\", [  ## window_center _ surface to ext\n",
    "             {\n",
    "                \"HF\":  'hf_gl_cen__W/m²__heatflux__glazing',\n",
    "                \"Tin\":  'T_surf_gl_in_cen__degC__temperature__glazingIn',\n",
    "                \"Text\":  'T_air_ext_av__degC__temperature__air ext',\n",
    "            },\n",
    "            \"HF/(Tin-Text)\",\n",
    "            'Ug_cen__W/m²K__Ucalc__glazing',\n",
    "        ]],   \n",
    "\n",
    "            [\"ExpressionCombine\", [  ## window_corner _ surface to ext\n",
    "             {\n",
    "                \"HF\":  'hf_gl_corner__W/m²__heatflux__glazing',\n",
    "                \"Tin\":  'T_surf_gl_in_up__degC__temperature__glazingIn',\n",
    "                \"Text\":  'T_air_ext_av__degC__temperature__air ext',\n",
    "            },\n",
    "            \"HF/(Tin-Text)\",\n",
    "            'Ug_cor__W/m²K__Ucalc__glazing',\n",
    "        ]],   \n",
    "            \n",
    "    ],  \n",
    "\n",
    "      \"U_value_additioned\": [\n",
    "          [\"ExpressionCombine\", [ \n",
    "            {\n",
    "                \"Uw\":  \"Uw__W/m²K__Ucalc__westwall\",\n",
    "                \"Ue\":  \"Ue__W/m²K__Ucalc__eastwall\",\n",
    "                \"Ud\":  \"Ud__W/m²K__Ucalc__door\",\n",
    "                \"Uf\":  \"Uf__W/m²K__Ucalc__floor\",\n",
    "                \"Ux\":  \"Uc__W/m²K__Ucalc__ceiling\",\n",
    "                \"Ug\":  \"Ug_cen__W/m²K__Ucalc__glazing\",\n",
    "            },\n",
    "        \"(Uw + Ue + Ud + Uf + Ux + (Ug * 0.885 + (1 - 0.885) * (Uw + Ue + Ud + Uf + Ux) / 5)) / 6\",\n",
    "            'Utot_from_hfs__W/m²K__Ucalc_tot__in',\n",
    "        ]],],  \n",
    "\n",
    "      \"infiltrations\": [\n",
    "          [\"ExpressionCombine\", [ \n",
    "            {\n",
    "                \"Utot_power\":  \"Utot_power__W/m²K__Ucalc_tot__in\",\n",
    "                \"Utot_hfs\":  \"Utot_from_hfs__W/m²K__Ucalc_tot__in\",\n",
    "            },\n",
    "        \"Utot_power - Utot_hfs\",\n",
    "            'Uinf__W/m²K__Ucalc_tot__in',\n",
    "        ]],],   \n",
    "\n",
    "    \"stability_check\": {\n",
    "        \"Ucalc_tot\": [\n",
    "            [\"DropTimeGradient\", dict(\n",
    "                dropna=True,\n",
    "                upper_rate=0.15*0.7/3600, #15% of value (around 7), per hour\n",
    "            )],\n",
    "        ],\n",
    "    }\n",
    "}"
   ]
  },
  {
   "cell_type": "code",
   "execution_count": null,
   "id": "8d19cb2c-2551-47af-bd52-932963f4ed02",
   "metadata": {},
   "outputs": [],
   "source": [
    "plumber_U = Plumber(\n",
    "    clean_df,\n",
    "    Ucalc_dict\n",
    ")"
   ]
  },
  {
   "cell_type": "code",
   "execution_count": null,
   "id": "647b22a2-25f4-4f2d-861a-9142365b8ed0",
   "metadata": {
    "scrolled": true
   },
   "outputs": [],
   "source": [
    "plumber_U.show()"
   ]
  },
  {
   "cell_type": "markdown",
   "id": "a9a0b995-7920-4c58-ad02-3b09ab0b503e",
   "metadata": {},
   "source": [
    "## Vizualisation of U-values"
   ]
  },
  {
   "cell_type": "markdown",
   "id": "e068d9c0-f66c-4001-9554-8ea65c90668d",
   "metadata": {},
   "source": [
    "After computing new columns (e.g. U-values) using custom expressions in the Ucalc_dict, we pass the resulting calc_data directly to a new Plumber instance for visualization.\n",
    "\n",
    "This approach is necessary because these columns are generated outside the main plumber pipeline — typically using scikit-plumber logic or custom post-processing steps. Unlike standard pipeline nodes, scikit-based computations do not automatically integrate back into the original pipeline graph.\n",
    "\n",
    "- Using calc_data as a direct input allows us to:\n",
    "- Visualize derived signals with show() just like raw or cleaned data\n",
    "- Apply filtering, grouping, and selection tools available in plumber\n"
   ]
  },
  {
   "cell_type": "code",
   "execution_count": null,
   "id": "81ab1c1a-ee87-46b3-b456-3dba315477da",
   "metadata": {
    "scrolled": true
   },
   "outputs": [],
   "source": [
    "calc_data = plumber_U.get_corrected_data()"
   ]
  },
  {
   "cell_type": "code",
   "execution_count": null,
   "id": "0491ed0b-9a52-44e5-b3b3-70124158fe11",
   "metadata": {},
   "outputs": [],
   "source": [
    "plumber_final = Plumber(\n",
    "    calc_data\n",
    ")"
   ]
  },
  {
   "cell_type": "code",
   "execution_count": null,
   "id": "ff22205b-b543-47c5-9b4e-fbd4be87179d",
   "metadata": {},
   "outputs": [],
   "source": [
    "plumber_final.plot(\n",
    "    select=\"Ucalc_tot\"\n",
    ")"
   ]
  },
  {
   "cell_type": "code",
   "execution_count": null,
   "id": "f0f5133b-fae2-488c-b65b-39d71e475226",
   "metadata": {},
   "outputs": [],
   "source": [
    "plumber_final.plot(\n",
    "    select=\"Ucalc\"\n",
    ")"
   ]
  },
  {
   "cell_type": "code",
   "execution_count": null,
   "id": "34b9e881-441f-4612-90b4-c60a7f3fdbb8",
   "metadata": {},
   "outputs": [],
   "source": [
    "plumber_final.plot(\n",
    "    select=\"W/m²__heatflux\"\n",
    ")"
   ]
  },
  {
   "cell_type": "code",
   "execution_count": null,
   "id": "12aab3a3-736d-4d91-ada2-7fdc0a352f34",
   "metadata": {},
   "outputs": [],
   "source": []
  }
 ],
 "metadata": {
  "kernelspec": {
   "display_name": "Python 3 (ipykernel)",
   "language": "python",
   "name": "python3"
  },
  "language_info": {
   "codemirror_mode": {
    "name": "ipython",
    "version": 3
   },
   "file_extension": ".py",
   "mimetype": "text/x-python",
   "name": "python",
   "nbconvert_exporter": "python",
   "pygments_lexer": "ipython3",
   "version": "3.10.13"
  }
 },
 "nbformat": 4,
 "nbformat_minor": 5
}
